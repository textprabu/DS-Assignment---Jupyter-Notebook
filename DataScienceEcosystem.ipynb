{
 "cells": [
  {
   "cell_type": "markdown",
   "id": "6dbd1e7e-55b9-44da-a1c2-d66bbee187db",
   "metadata": {},
   "source": [
    "# Data Science Tools and Ecosysytem"
   ]
  },
  {
   "cell_type": "markdown",
   "id": "3b775ad0-8770-4a4c-837b-fc9fd9036534",
   "metadata": {},
   "source": [
    "In this notebook, Data Science Tools and Ecosystem are summarized"
   ]
  },
  {
   "cell_type": "markdown",
   "id": "ef6fca58-e183-4025-82ba-57775d8f3b72",
   "metadata": {},
   "source": [
    "**Objectives:**\n",
    "\n",
    "- List popular languages for data science\n",
    "- List Commonly used libraries\n",
    "- List some Data Science tools in a table\n",
    "- Do some basic arthimetic operations "
   ]
  },
  {
   "cell_type": "markdown",
   "id": "ed540d20-3a54-4348-8255-985fa7b57b22",
   "metadata": {},
   "source": [
    "Some of the popular languages that Data Scientists use are:\n",
    "\n",
    "1. Python\n",
    "2. R\n",
    "3. C++\n"
   ]
  },
  {
   "cell_type": "markdown",
   "id": "59d7c2e3-6a3d-42bc-bebf-065f33873bd3",
   "metadata": {},
   "source": [
    "Some of the commonly used libraries used by Data Scientists include:\n",
    "\n",
    "1. Numpy\n",
    "2. Pandas\n",
    "3. Scipy"
   ]
  },
  {
   "cell_type": "markdown",
   "id": "691e1917-ea0c-4db6-96ea-7f3422d947a8",
   "metadata": {},
   "source": [
    "| Data Science Tools |\n",
    "| ------------------ |\n",
    "| Jupyter            |\n",
    "| JupyterLab         |\n",
    "| RStudio            |"
   ]
  },
  {
   "cell_type": "markdown",
   "id": "d473ce25-e867-4993-b211-5cd37150ffe2",
   "metadata": {},
   "source": [
    "### Below are a few examples of evaluating arithmetic expressions in Python.\n",
    "\n"
   ]
  },
  {
   "cell_type": "code",
   "execution_count": 5,
   "id": "8c92930c-fe51-4ba6-a1fc-bb0d8daec807",
   "metadata": {},
   "outputs": [
    {
     "data": {
      "text/plain": [
       "17"
      ]
     },
     "execution_count": 5,
     "metadata": {},
     "output_type": "execute_result"
    }
   ],
   "source": [
    "# This a simple arithmetic expression to mutiply then add integers\n",
    "(3*4)+5"
   ]
  },
  {
   "cell_type": "code",
   "execution_count": 7,
   "id": "df46bd4a-0849-497f-ac23-8609605bc9e5",
   "metadata": {},
   "outputs": [
    {
     "data": {
      "text/plain": [
       "3.3333333333333335"
      ]
     },
     "execution_count": 7,
     "metadata": {},
     "output_type": "execute_result"
    }
   ],
   "source": [
    "# This will convert 200 minutes to hours by diving by 60.\n",
    "200/60"
   ]
  },
  {
   "cell_type": "markdown",
   "id": "4acbae9a-f779-49f5-9016-38cb339b14ae",
   "metadata": {},
   "source": [
    "## Author\n",
    "Prabu"
   ]
  },
  {
   "cell_type": "code",
   "execution_count": null,
   "id": "7b433135-c349-4420-85a6-4feb644413c3",
   "metadata": {},
   "outputs": [],
   "source": []
  }
 ],
 "metadata": {
  "kernelspec": {
   "display_name": "Python 3 (ipykernel)",
   "language": "python",
   "name": "python3"
  },
  "language_info": {
   "codemirror_mode": {
    "name": "ipython",
    "version": 3
   },
   "file_extension": ".py",
   "mimetype": "text/x-python",
   "name": "python",
   "nbconvert_exporter": "python",
   "pygments_lexer": "ipython3",
   "version": "3.13.2"
  }
 },
 "nbformat": 4,
 "nbformat_minor": 5
}
